{
 "cells": [
  {
   "cell_type": "markdown",
   "metadata": {},
   "source": [
    "### yahooFinancials \n",
    "https://pypi.org/project/yahoofinancials/\n",
    "<br>\n",
    "<p><strong> No intraday data </strong></p>"
   ]
  },
  {
   "cell_type": "code",
   "execution_count": 2,
   "metadata": {},
   "outputs": [],
   "source": [
    "from yahoofinancials import YahooFinancials"
   ]
  },
  {
   "cell_type": "code",
   "execution_count": 3,
   "metadata": {},
   "outputs": [],
   "source": [
    "ticker = 'MSFT'\n",
    "yahoo_financials = YahooFinancials(ticker)\n",
    "data = yahoo_financials.get_historical_price_data(\"2018-04-24\",\"2020-04-24\", \"daily\") #no intradaya\n",
    "# data result in JSON\n",
    "# e.g data['MSFT']['prices'] ... "
   ]
  },
  {
   "cell_type": "code",
   "execution_count": 12,
   "metadata": {
    "scrolled": true
   },
   "outputs": [
    {
     "data": {
      "text/plain": [
       "{'date': 1524576600,\n",
       " 'high': 96.47000122070312,\n",
       " 'low': 92.41000366210938,\n",
       " 'open': 96.23999786376953,\n",
       " 'close': 93.12000274658203,\n",
       " 'volume': 34524800,\n",
       " 'adjclose': 90.37853240966797,\n",
       " 'formatted_date': '2018-04-24'}"
      ]
     },
     "execution_count": 12,
     "metadata": {},
     "output_type": "execute_result"
    }
   ],
   "source": [
    "data['MSFT']['prices'][0]"
   ]
  },
  {
   "cell_type": "markdown",
   "metadata": {},
   "source": [
    "### Extracting Data for Multiple Stocks"
   ]
  },
  {
   "cell_type": "code",
   "execution_count": 13,
   "metadata": {},
   "outputs": [],
   "source": [
    "import pandas as pd\n",
    "from yahoofinancials import YahooFinancials\n",
    "import datetime \n",
    "\n",
    "all_tickers = ['AAPL', 'MSFT', 'CSCO', 'AMZN', 'INTC']\n",
    "ticker = 'MSFT'"
   ]
  },
  {
   "cell_type": "code",
   "execution_count": 19,
   "metadata": {},
   "outputs": [],
   "source": [
    "#extracting stock data(historical close prices) for stock list\n",
    "close_prices = pd.DataFrame()\n",
    "end_date = (datetime.date.today()).strftime('%Y-%m-%d')\n",
    "beg_date = (datetime.date.today() -  datetime.timedelta(1825)).strftime('%Y-%m-%d')"
   ]
  },
  {
   "cell_type": "code",
   "execution_count": 29,
   "metadata": {},
   "outputs": [],
   "source": [
    "for ticker in all_tickers:\n",
    "    yahoo_financials = YahooFinancials(ticker)\n",
    "    json_obj = yahoo_financials.get_historical_price_data(beg_date, end_date, 'daily')\n",
    "    ohlc = json_obj[ticker]['prices']\n",
    "    temp = pd.DataFrame(ohlc)[['formatted_date', 'adjclose']]\n",
    "    temp.set_index('formatted_date', inplace = True)\n",
    "    temp.dropna(inplace=True)\n",
    "    close_prices[ticker] = temp['adjclose']"
   ]
  },
  {
   "cell_type": "code",
   "execution_count": 31,
   "metadata": {},
   "outputs": [
    {
     "data": {
      "text/html": [
       "<div>\n",
       "<style scoped>\n",
       "    .dataframe tbody tr th:only-of-type {\n",
       "        vertical-align: middle;\n",
       "    }\n",
       "\n",
       "    .dataframe tbody tr th {\n",
       "        vertical-align: top;\n",
       "    }\n",
       "\n",
       "    .dataframe thead th {\n",
       "        text-align: right;\n",
       "    }\n",
       "</style>\n",
       "<table border=\"1\" class=\"dataframe\">\n",
       "  <thead>\n",
       "    <tr style=\"text-align: right;\">\n",
       "      <th></th>\n",
       "      <th>AAPL</th>\n",
       "      <th>MSFT</th>\n",
       "      <th>CSCO</th>\n",
       "      <th>AMZN</th>\n",
       "      <th>INTC</th>\n",
       "    </tr>\n",
       "    <tr>\n",
       "      <th>formatted_date</th>\n",
       "      <th></th>\n",
       "      <th></th>\n",
       "      <th></th>\n",
       "      <th></th>\n",
       "      <th></th>\n",
       "    </tr>\n",
       "  </thead>\n",
       "  <tbody>\n",
       "    <tr>\n",
       "      <td>2015-05-11</td>\n",
       "      <td>116.732750</td>\n",
       "      <td>42.712799</td>\n",
       "      <td>24.901993</td>\n",
       "      <td>432.850006</td>\n",
       "      <td>28.541685</td>\n",
       "    </tr>\n",
       "    <tr>\n",
       "      <td>2015-05-12</td>\n",
       "      <td>116.316917</td>\n",
       "      <td>42.694778</td>\n",
       "      <td>24.919044</td>\n",
       "      <td>431.019989</td>\n",
       "      <td>28.157524</td>\n",
       "    </tr>\n",
       "    <tr>\n",
       "      <td>2015-05-13</td>\n",
       "      <td>116.446297</td>\n",
       "      <td>42.947243</td>\n",
       "      <td>25.021343</td>\n",
       "      <td>426.869995</td>\n",
       "      <td>28.498030</td>\n",
       "    </tr>\n",
       "    <tr>\n",
       "      <td>2015-05-14</td>\n",
       "      <td>119.163139</td>\n",
       "      <td>43.930080</td>\n",
       "      <td>24.765589</td>\n",
       "      <td>432.279999</td>\n",
       "      <td>28.786152</td>\n",
       "    </tr>\n",
       "    <tr>\n",
       "      <td>2015-05-15</td>\n",
       "      <td>118.996811</td>\n",
       "      <td>43.551365</td>\n",
       "      <td>25.191849</td>\n",
       "      <td>426.000000</td>\n",
       "      <td>28.803614</td>\n",
       "    </tr>\n",
       "    <tr>\n",
       "      <td>...</td>\n",
       "      <td>...</td>\n",
       "      <td>...</td>\n",
       "      <td>...</td>\n",
       "      <td>...</td>\n",
       "      <td>...</td>\n",
       "    </tr>\n",
       "    <tr>\n",
       "      <td>2020-05-01</td>\n",
       "      <td>289.070007</td>\n",
       "      <td>174.570007</td>\n",
       "      <td>40.919998</td>\n",
       "      <td>2286.040039</td>\n",
       "      <td>57.147190</td>\n",
       "    </tr>\n",
       "    <tr>\n",
       "      <td>2020-05-04</td>\n",
       "      <td>293.160004</td>\n",
       "      <td>178.839996</td>\n",
       "      <td>41.349998</td>\n",
       "      <td>2315.989990</td>\n",
       "      <td>57.664272</td>\n",
       "    </tr>\n",
       "    <tr>\n",
       "      <td>2020-05-05</td>\n",
       "      <td>297.559998</td>\n",
       "      <td>180.759995</td>\n",
       "      <td>41.459999</td>\n",
       "      <td>2317.800049</td>\n",
       "      <td>58.419998</td>\n",
       "    </tr>\n",
       "    <tr>\n",
       "      <td>2020-05-06</td>\n",
       "      <td>300.630005</td>\n",
       "      <td>182.539993</td>\n",
       "      <td>41.150002</td>\n",
       "      <td>2351.260010</td>\n",
       "      <td>59.180000</td>\n",
       "    </tr>\n",
       "    <tr>\n",
       "      <td>2020-05-07</td>\n",
       "      <td>303.739990</td>\n",
       "      <td>183.600006</td>\n",
       "      <td>41.369999</td>\n",
       "      <td>2367.610107</td>\n",
       "      <td>59.169998</td>\n",
       "    </tr>\n",
       "  </tbody>\n",
       "</table>\n",
       "<p>1258 rows × 5 columns</p>\n",
       "</div>"
      ],
      "text/plain": [
       "                      AAPL        MSFT       CSCO         AMZN       INTC\n",
       "formatted_date                                                           \n",
       "2015-05-11      116.732750   42.712799  24.901993   432.850006  28.541685\n",
       "2015-05-12      116.316917   42.694778  24.919044   431.019989  28.157524\n",
       "2015-05-13      116.446297   42.947243  25.021343   426.869995  28.498030\n",
       "2015-05-14      119.163139   43.930080  24.765589   432.279999  28.786152\n",
       "2015-05-15      118.996811   43.551365  25.191849   426.000000  28.803614\n",
       "...                    ...         ...        ...          ...        ...\n",
       "2020-05-01      289.070007  174.570007  40.919998  2286.040039  57.147190\n",
       "2020-05-04      293.160004  178.839996  41.349998  2315.989990  57.664272\n",
       "2020-05-05      297.559998  180.759995  41.459999  2317.800049  58.419998\n",
       "2020-05-06      300.630005  182.539993  41.150002  2351.260010  59.180000\n",
       "2020-05-07      303.739990  183.600006  41.369999  2367.610107  59.169998\n",
       "\n",
       "[1258 rows x 5 columns]"
      ]
     },
     "execution_count": 31,
     "metadata": {},
     "output_type": "execute_result"
    }
   ],
   "source": [
    "close_prices"
   ]
  }
 ],
 "metadata": {
  "kernelspec": {
   "display_name": "Python 3",
   "language": "python",
   "name": "python3"
  },
  "language_info": {
   "codemirror_mode": {
    "name": "ipython",
    "version": 3
   },
   "file_extension": ".py",
   "mimetype": "text/x-python",
   "name": "python",
   "nbconvert_exporter": "python",
   "pygments_lexer": "ipython3",
   "version": "3.7.4"
  }
 },
 "nbformat": 4,
 "nbformat_minor": 2
}
