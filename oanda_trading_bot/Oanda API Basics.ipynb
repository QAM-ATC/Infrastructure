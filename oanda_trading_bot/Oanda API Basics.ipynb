{
 "cells": [
  {
   "cell_type": "markdown",
   "metadata": {},
   "source": [
    "Prepard by : Bryan Lim Yuqiang  <br> "
   ]
  },
  {
   "cell_type": "markdown",
   "metadata": {},
   "source": [
    "Notice: please pip install oandapyV20 before using"
   ]
  },
  {
   "cell_type": "markdown",
   "metadata": {},
   "source": [
    "<a href=\"https://www.oanda.com/register/?div=3&cc=SG#/sign-up/demo\" /><button style = \"background-color: green; color: white;\"> Sign up for your demo account</button> </a>\n",
    "<a href=\"https://developer.oanda.com/rest-live-v20/introduction/\" /><button style = \"background-color: green; color: white;\"> OandaV20 API Website </button> </a>\n",
    "<a href=\"https://buildmedia.readthedocs.org/media/pdf/oanda-api-v20/latest/oanda-api-v20.pdf\" /><button style = \"background-color: green; color: white;\"> Detailed API Documentation </button> </a>\n",
    "<a href=\"https://developer.oanda.com/rest-live-v20/troubleshooting-errors/\" /><button style = \"background-color: red; color: white;\"> Troubleshooting & Errors </button> </a>"
   ]
  },
  {
   "cell_type": "code",
   "execution_count": 2,
   "metadata": {},
   "outputs": [],
   "source": [
    "import oandapyV20\n",
    "import oandapyV20.endpoints.instruments as instruments\n",
    "import oandapyV20.endpoints.pricing as pricing\n",
    "import oandapyV20.endpoints.accounts as accounts\n",
    "import oandapyV20.endpoints.orders as orders\n",
    "import oandapyV20.endpoints.trades as trades\n",
    "import pandas as pd"
   ]
  },
  {
   "cell_type": "markdown",
   "metadata": {},
   "source": [
    "### API SETUP - Generate your own api key and store to txt file in a directory"
   ]
  },
  {
   "cell_type": "code",
   "execution_count": 3,
   "metadata": {},
   "outputs": [],
   "source": [
    "#initiating API connection and definining trade parameters \n",
    "token_path =  \"C:\\\\Users\\\\Gigabyte\\\\Desktop\\\\quant-trading-python-bot\\\\oanda.txt\"\n",
    "client = oandapyV20.API(access_token = open(token_path,'r').read(), environment='practice')"
   ]
  },
  {
   "cell_type": "markdown",
   "metadata": {},
   "source": [
    "### Retrieving Historical Data using instruments endpoint"
   ]
  },
  {
   "cell_type": "code",
   "execution_count": 4,
   "metadata": {},
   "outputs": [
    {
     "name": "stdout",
     "output_type": "stream",
     "text": [
      "{'instrument': 'USD_JPY', 'granularity': 'M5', 'candles': [{'complete': True, 'volume': 281, 'time': '2020-05-08T08:30:00.000000000Z', 'mid': {'o': '106.320', 'h': '106.346', 'l': '106.314', 'c': '106.332'}}, {'complete': True, 'volume': 144, 'time': '2020-05-08T08:35:00.000000000Z', 'mid': {'o': '106.334', 'h': '106.352', 'l': '106.324', 'c': '106.332'}}, {'complete': True, 'volume': 179, 'time': '2020-05-08T08:40:00.000000000Z', 'mid': {'o': '106.333', 'h': '106.333', 'l': '106.308', 'c': '106.308'}}, {'complete': True, 'volume': 230, 'time': '2020-05-08T08:45:00.000000000Z', 'mid': {'o': '106.308', 'h': '106.318', 'l': '106.304', 'c': '106.315'}}, {'complete': True, 'volume': 182, 'time': '2020-05-08T08:50:00.000000000Z', 'mid': {'o': '106.314', 'h': '106.334', 'l': '106.310', 'c': '106.332'}}, {'complete': True, 'volume': 184, 'time': '2020-05-08T08:55:00.000000000Z', 'mid': {'o': '106.333', 'h': '106.360', 'l': '106.332', 'c': '106.357'}}, {'complete': True, 'volume': 168, 'time': '2020-05-08T09:00:00.000000000Z', 'mid': {'o': '106.356', 'h': '106.360', 'l': '106.332', 'c': '106.333'}}, {'complete': True, 'volume': 160, 'time': '2020-05-08T09:05:00.000000000Z', 'mid': {'o': '106.334', 'h': '106.344', 'l': '106.326', 'c': '106.343'}}, {'complete': True, 'volume': 164, 'time': '2020-05-08T09:10:00.000000000Z', 'mid': {'o': '106.344', 'h': '106.369', 'l': '106.344', 'c': '106.368'}}, {'complete': True, 'volume': 244, 'time': '2020-05-08T09:15:00.000000000Z', 'mid': {'o': '106.369', 'h': '106.383', 'l': '106.354', 'c': '106.379'}}, {'complete': True, 'volume': 188, 'time': '2020-05-08T09:20:00.000000000Z', 'mid': {'o': '106.380', 'h': '106.389', 'l': '106.368', 'c': '106.374'}}, {'complete': True, 'volume': 145, 'time': '2020-05-08T09:25:00.000000000Z', 'mid': {'o': '106.372', 'h': '106.374', 'l': '106.357', 'c': '106.366'}}, {'complete': True, 'volume': 218, 'time': '2020-05-08T09:30:00.000000000Z', 'mid': {'o': '106.368', 'h': '106.384', 'l': '106.366', 'c': '106.376'}}, {'complete': True, 'volume': 212, 'time': '2020-05-08T09:35:00.000000000Z', 'mid': {'o': '106.378', 'h': '106.388', 'l': '106.375', 'c': '106.384'}}, {'complete': True, 'volume': 133, 'time': '2020-05-08T09:40:00.000000000Z', 'mid': {'o': '106.384', 'h': '106.396', 'l': '106.378', 'c': '106.396'}}, {'complete': True, 'volume': 195, 'time': '2020-05-08T09:45:00.000000000Z', 'mid': {'o': '106.396', 'h': '106.410', 'l': '106.374', 'c': '106.378'}}, {'complete': True, 'volume': 162, 'time': '2020-05-08T09:50:00.000000000Z', 'mid': {'o': '106.378', 'h': '106.378', 'l': '106.357', 'c': '106.359'}}, {'complete': True, 'volume': 161, 'time': '2020-05-08T09:55:00.000000000Z', 'mid': {'o': '106.360', 'h': '106.366', 'l': '106.354', 'c': '106.358'}}, {'complete': True, 'volume': 133, 'time': '2020-05-08T10:00:00.000000000Z', 'mid': {'o': '106.360', 'h': '106.360', 'l': '106.337', 'c': '106.337'}}, {'complete': True, 'volume': 192, 'time': '2020-05-08T10:05:00.000000000Z', 'mid': {'o': '106.338', 'h': '106.359', 'l': '106.326', 'c': '106.356'}}, {'complete': True, 'volume': 154, 'time': '2020-05-08T10:10:00.000000000Z', 'mid': {'o': '106.354', 'h': '106.363', 'l': '106.344', 'c': '106.358'}}, {'complete': True, 'volume': 181, 'time': '2020-05-08T10:15:00.000000000Z', 'mid': {'o': '106.359', 'h': '106.366', 'l': '106.342', 'c': '106.348'}}, {'complete': True, 'volume': 147, 'time': '2020-05-08T10:20:00.000000000Z', 'mid': {'o': '106.346', 'h': '106.356', 'l': '106.342', 'c': '106.348'}}, {'complete': True, 'volume': 126, 'time': '2020-05-08T10:25:00.000000000Z', 'mid': {'o': '106.346', 'h': '106.358', 'l': '106.340', 'c': '106.347'}}, {'complete': True, 'volume': 141, 'time': '2020-05-08T10:30:00.000000000Z', 'mid': {'o': '106.348', 'h': '106.350', 'l': '106.334', 'c': '106.344'}}, {'complete': True, 'volume': 113, 'time': '2020-05-08T10:35:00.000000000Z', 'mid': {'o': '106.343', 'h': '106.344', 'l': '106.330', 'c': '106.334'}}, {'complete': True, 'volume': 109, 'time': '2020-05-08T10:40:00.000000000Z', 'mid': {'o': '106.332', 'h': '106.358', 'l': '106.330', 'c': '106.357'}}, {'complete': True, 'volume': 103, 'time': '2020-05-08T10:45:00.000000000Z', 'mid': {'o': '106.358', 'h': '106.364', 'l': '106.350', 'c': '106.356'}}, {'complete': True, 'volume': 120, 'time': '2020-05-08T10:50:00.000000000Z', 'mid': {'o': '106.358', 'h': '106.360', 'l': '106.344', 'c': '106.353'}}, {'complete': True, 'volume': 148, 'time': '2020-05-08T10:55:00.000000000Z', 'mid': {'o': '106.355', 'h': '106.360', 'l': '106.338', 'c': '106.354'}}, {'complete': True, 'volume': 144, 'time': '2020-05-08T11:00:00.000000000Z', 'mid': {'o': '106.355', 'h': '106.374', 'l': '106.348', 'c': '106.354'}}, {'complete': True, 'volume': 135, 'time': '2020-05-08T11:05:00.000000000Z', 'mid': {'o': '106.356', 'h': '106.359', 'l': '106.347', 'c': '106.353'}}, {'complete': True, 'volume': 115, 'time': '2020-05-08T11:10:00.000000000Z', 'mid': {'o': '106.352', 'h': '106.379', 'l': '106.351', 'c': '106.366'}}, {'complete': True, 'volume': 186, 'time': '2020-05-08T11:15:00.000000000Z', 'mid': {'o': '106.367', 'h': '106.382', 'l': '106.360', 'c': '106.363'}}, {'complete': True, 'volume': 144, 'time': '2020-05-08T11:20:00.000000000Z', 'mid': {'o': '106.364', 'h': '106.370', 'l': '106.360', 'c': '106.366'}}, {'complete': True, 'volume': 150, 'time': '2020-05-08T11:25:00.000000000Z', 'mid': {'o': '106.366', 'h': '106.374', 'l': '106.358', 'c': '106.366'}}, {'complete': True, 'volume': 156, 'time': '2020-05-08T11:30:00.000000000Z', 'mid': {'o': '106.366', 'h': '106.367', 'l': '106.348', 'c': '106.352'}}, {'complete': True, 'volume': 118, 'time': '2020-05-08T11:35:00.000000000Z', 'mid': {'o': '106.350', 'h': '106.364', 'l': '106.346', 'c': '106.360'}}, {'complete': True, 'volume': 131, 'time': '2020-05-08T11:40:00.000000000Z', 'mid': {'o': '106.360', 'h': '106.382', 'l': '106.354', 'c': '106.380'}}, {'complete': True, 'volume': 125, 'time': '2020-05-08T11:45:00.000000000Z', 'mid': {'o': '106.379', 'h': '106.380', 'l': '106.366', 'c': '106.376'}}, {'complete': True, 'volume': 99, 'time': '2020-05-08T11:50:00.000000000Z', 'mid': {'o': '106.374', 'h': '106.374', 'l': '106.358', 'c': '106.362'}}, {'complete': True, 'volume': 221, 'time': '2020-05-08T11:55:00.000000000Z', 'mid': {'o': '106.360', 'h': '106.383', 'l': '106.358', 'c': '106.366'}}, {'complete': True, 'volume': 248, 'time': '2020-05-08T12:00:00.000000000Z', 'mid': {'o': '106.364', 'h': '106.367', 'l': '106.348', 'c': '106.358'}}, {'complete': True, 'volume': 325, 'time': '2020-05-08T12:05:00.000000000Z', 'mid': {'o': '106.356', 'h': '106.364', 'l': '106.342', 'c': '106.348'}}, {'complete': True, 'volume': 250, 'time': '2020-05-08T12:10:00.000000000Z', 'mid': {'o': '106.349', 'h': '106.376', 'l': '106.349', 'c': '106.372'}}, {'complete': True, 'volume': 258, 'time': '2020-05-08T12:15:00.000000000Z', 'mid': {'o': '106.370', 'h': '106.381', 'l': '106.356', 'c': '106.358'}}, {'complete': True, 'volume': 285, 'time': '2020-05-08T12:20:00.000000000Z', 'mid': {'o': '106.359', 'h': '106.372', 'l': '106.357', 'c': '106.360'}}, {'complete': True, 'volume': 231, 'time': '2020-05-08T12:25:00.000000000Z', 'mid': {'o': '106.361', 'h': '106.361', 'l': '106.282', 'c': '106.302'}}, {'complete': True, 'volume': 1183, 'time': '2020-05-08T12:30:00.000000000Z', 'mid': {'o': '106.298', 'h': '106.562', 'l': '106.298', 'c': '106.516'}}, {'complete': True, 'volume': 923, 'time': '2020-05-08T12:35:00.000000000Z', 'mid': {'o': '106.516', 'h': '106.542', 'l': '106.462', 'c': '106.512'}}, {'complete': True, 'volume': 800, 'time': '2020-05-08T12:40:00.000000000Z', 'mid': {'o': '106.514', 'h': '106.576', 'l': '106.506', 'c': '106.566'}}, {'complete': True, 'volume': 1045, 'time': '2020-05-08T12:45:00.000000000Z', 'mid': {'o': '106.568', 'h': '106.696', 'l': '106.550', 'c': '106.666'}}, {'complete': True, 'volume': 886, 'time': '2020-05-08T12:50:00.000000000Z', 'mid': {'o': '106.667', 'h': '106.685', 'l': '106.626', 'c': '106.657'}}, {'complete': True, 'volume': 648, 'time': '2020-05-08T12:55:00.000000000Z', 'mid': {'o': '106.656', 'h': '106.676', 'l': '106.626', 'c': '106.666'}}, {'complete': True, 'volume': 629, 'time': '2020-05-08T13:00:00.000000000Z', 'mid': {'o': '106.665', 'h': '106.702', 'l': '106.642', 'c': '106.692'}}, {'complete': True, 'volume': 356, 'time': '2020-05-08T13:05:00.000000000Z', 'mid': {'o': '106.694', 'h': '106.722', 'l': '106.690', 'c': '106.707'}}, {'complete': True, 'volume': 333, 'time': '2020-05-08T13:10:00.000000000Z', 'mid': {'o': '106.708', 'h': '106.718', 'l': '106.678', 'c': '106.680'}}, {'complete': True, 'volume': 392, 'time': '2020-05-08T13:15:00.000000000Z', 'mid': {'o': '106.682', 'h': '106.698', 'l': '106.677', 'c': '106.686'}}, {'complete': True, 'volume': 425, 'time': '2020-05-08T13:20:00.000000000Z', 'mid': {'o': '106.687', 'h': '106.726', 'l': '106.677', 'c': '106.687'}}, {'complete': True, 'volume': 399, 'time': '2020-05-08T13:25:00.000000000Z', 'mid': {'o': '106.688', 'h': '106.688', 'l': '106.636', 'c': '106.657'}}, {'complete': True, 'volume': 534, 'time': '2020-05-08T13:30:00.000000000Z', 'mid': {'o': '106.659', 'h': '106.659', 'l': '106.605', 'c': '106.621'}}, {'complete': True, 'volume': 580, 'time': '2020-05-08T13:35:00.000000000Z', 'mid': {'o': '106.620', 'h': '106.624', 'l': '106.552', 'c': '106.578'}}, {'complete': True, 'volume': 431, 'time': '2020-05-08T13:40:00.000000000Z', 'mid': {'o': '106.580', 'h': '106.614', 'l': '106.576', 'c': '106.584'}}, {'complete': True, 'volume': 379, 'time': '2020-05-08T13:45:00.000000000Z', 'mid': {'o': '106.585', 'h': '106.604', 'l': '106.564', 'c': '106.582'}}, {'complete': True, 'volume': 406, 'time': '2020-05-08T13:50:00.000000000Z', 'mid': {'o': '106.584', 'h': '106.613', 'l': '106.569', 'c': '106.607'}}, {'complete': True, 'volume': 407, 'time': '2020-05-08T13:55:00.000000000Z', 'mid': {'o': '106.608', 'h': '106.652', 'l': '106.607', 'c': '106.626'}}, {'complete': True, 'volume': 542, 'time': '2020-05-08T14:00:00.000000000Z', 'mid': {'o': '106.628', 'h': '106.666', 'l': '106.627', 'c': '106.632'}}, {'complete': True, 'volume': 383, 'time': '2020-05-08T14:05:00.000000000Z', 'mid': {'o': '106.630', 'h': '106.651', 'l': '106.611', 'c': '106.614'}}, {'complete': True, 'volume': 352, 'time': '2020-05-08T14:10:00.000000000Z', 'mid': {'o': '106.613', 'h': '106.639', 'l': '106.600', 'c': '106.608'}}, {'complete': True, 'volume': 440, 'time': '2020-05-08T14:15:00.000000000Z', 'mid': {'o': '106.610', 'h': '106.627', 'l': '106.574', 'c': '106.590'}}, {'complete': True, 'volume': 458, 'time': '2020-05-08T14:20:00.000000000Z', 'mid': {'o': '106.591', 'h': '106.593', 'l': '106.558', 'c': '106.560'}}, {'complete': True, 'volume': 496, 'time': '2020-05-08T14:25:00.000000000Z', 'mid': {'o': '106.562', 'h': '106.590', 'l': '106.540', 'c': '106.580'}}, {'complete': True, 'volume': 436, 'time': '2020-05-08T14:30:00.000000000Z', 'mid': {'o': '106.579', 'h': '106.589', 'l': '106.552', 'c': '106.568'}}, {'complete': True, 'volume': 414, 'time': '2020-05-08T14:35:00.000000000Z', 'mid': {'o': '106.566', 'h': '106.588', 'l': '106.554', 'c': '106.580'}}, {'complete': True, 'volume': 564, 'time': '2020-05-08T14:40:00.000000000Z', 'mid': {'o': '106.580', 'h': '106.592', 'l': '106.512', 'c': '106.522'}}, {'complete': True, 'volume': 725, 'time': '2020-05-08T14:45:00.000000000Z', 'mid': {'o': '106.524', 'h': '106.540', 'l': '106.484', 'c': '106.489'}}, {'complete': True, 'volume': 569, 'time': '2020-05-08T14:50:00.000000000Z', 'mid': {'o': '106.490', 'h': '106.517', 'l': '106.470', 'c': '106.477'}}, {'complete': True, 'volume': 914, 'time': '2020-05-08T14:55:00.000000000Z', 'mid': {'o': '106.476', 'h': '106.476', 'l': '106.414', 'c': '106.434'}}, {'complete': True, 'volume': 756, 'time': '2020-05-08T15:00:00.000000000Z', 'mid': {'o': '106.436', 'h': '106.450', 'l': '106.391', 'c': '106.397'}}, {'complete': True, 'volume': 485, 'time': '2020-05-08T15:05:00.000000000Z', 'mid': {'o': '106.395', 'h': '106.428', 'l': '106.391', 'c': '106.416'}}, {'complete': True, 'volume': 340, 'time': '2020-05-08T15:10:00.000000000Z', 'mid': {'o': '106.415', 'h': '106.468', 'l': '106.408', 'c': '106.466'}}, {'complete': True, 'volume': 350, 'time': '2020-05-08T15:15:00.000000000Z', 'mid': {'o': '106.468', 'h': '106.472', 'l': '106.446', 'c': '106.450'}}, {'complete': True, 'volume': 394, 'time': '2020-05-08T15:20:00.000000000Z', 'mid': {'o': '106.450', 'h': '106.528', 'l': '106.442', 'c': '106.528'}}, {'complete': True, 'volume': 403, 'time': '2020-05-08T15:25:00.000000000Z', 'mid': {'o': '106.530', 'h': '106.534', 'l': '106.506', 'c': '106.514'}}, {'complete': True, 'volume': 453, 'time': '2020-05-08T15:30:00.000000000Z', 'mid': {'o': '106.516', 'h': '106.544', 'l': '106.513', 'c': '106.522'}}, {'complete': True, 'volume': 266, 'time': '2020-05-08T15:35:00.000000000Z', 'mid': {'o': '106.524', 'h': '106.540', 'l': '106.512', 'c': '106.532'}}, {'complete': True, 'volume': 472, 'time': '2020-05-08T15:40:00.000000000Z', 'mid': {'o': '106.534', 'h': '106.544', 'l': '106.507', 'c': '106.516'}}, {'complete': True, 'volume': 302, 'time': '2020-05-08T15:45:00.000000000Z', 'mid': {'o': '106.518', 'h': '106.529', 'l': '106.498', 'c': '106.526'}}, {'complete': True, 'volume': 214, 'time': '2020-05-08T15:50:00.000000000Z', 'mid': {'o': '106.526', 'h': '106.529', 'l': '106.496', 'c': '106.504'}}, {'complete': True, 'volume': 367, 'time': '2020-05-08T15:55:00.000000000Z', 'mid': {'o': '106.506', 'h': '106.535', 'l': '106.496', 'c': '106.513'}}, {'complete': True, 'volume': 326, 'time': '2020-05-08T16:00:00.000000000Z', 'mid': {'o': '106.514', 'h': '106.552', 'l': '106.513', 'c': '106.544'}}, {'complete': True, 'volume': 190, 'time': '2020-05-08T16:05:00.000000000Z', 'mid': {'o': '106.546', 'h': '106.582', 'l': '106.542', 'c': '106.572'}}, {'complete': True, 'volume': 206, 'time': '2020-05-08T16:10:00.000000000Z', 'mid': {'o': '106.571', 'h': '106.601', 'l': '106.568', 'c': '106.600'}}, {'complete': True, 'volume': 294, 'time': '2020-05-08T16:15:00.000000000Z', 'mid': {'o': '106.602', 'h': '106.604', 'l': '106.578', 'c': '106.578'}}, {'complete': True, 'volume': 115, 'time': '2020-05-08T16:20:00.000000000Z', 'mid': {'o': '106.579', 'h': '106.594', 'l': '106.578', 'c': '106.588'}}, {'complete': True, 'volume': 126, 'time': '2020-05-08T16:25:00.000000000Z', 'mid': {'o': '106.587', 'h': '106.593', 'l': '106.575', 'c': '106.591'}}, {'complete': True, 'volume': 128, 'time': '2020-05-08T16:30:00.000000000Z', 'mid': {'o': '106.592', 'h': '106.598', 'l': '106.586', 'c': '106.588'}}, {'complete': True, 'volume': 178, 'time': '2020-05-08T16:35:00.000000000Z', 'mid': {'o': '106.587', 'h': '106.589', 'l': '106.564', 'c': '106.571'}}, {'complete': True, 'volume': 136, 'time': '2020-05-08T16:40:00.000000000Z', 'mid': {'o': '106.570', 'h': '106.595', 'l': '106.568', 'c': '106.590'}}, {'complete': True, 'volume': 178, 'time': '2020-05-08T16:45:00.000000000Z', 'mid': {'o': '106.588', 'h': '106.624', 'l': '106.586', 'c': '106.616'}}, {'complete': True, 'volume': 298, 'time': '2020-05-08T16:50:00.000000000Z', 'mid': {'o': '106.616', 'h': '106.620', 'l': '106.600', 'c': '106.608'}}, {'complete': True, 'volume': 258, 'time': '2020-05-08T16:55:00.000000000Z', 'mid': {'o': '106.606', 'h': '106.628', 'l': '106.596', 'c': '106.614'}}, {'complete': True, 'volume': 224, 'time': '2020-05-08T17:00:00.000000000Z', 'mid': {'o': '106.616', 'h': '106.640', 'l': '106.616', 'c': '106.632'}}, {'complete': True, 'volume': 127, 'time': '2020-05-08T17:05:00.000000000Z', 'mid': {'o': '106.634', 'h': '106.634', 'l': '106.614', 'c': '106.622'}}, {'complete': True, 'volume': 125, 'time': '2020-05-08T17:10:00.000000000Z', 'mid': {'o': '106.620', 'h': '106.622', 'l': '106.597', 'c': '106.598'}}, {'complete': True, 'volume': 139, 'time': '2020-05-08T17:15:00.000000000Z', 'mid': {'o': '106.598', 'h': '106.602', 'l': '106.581', 'c': '106.586'}}, {'complete': True, 'volume': 135, 'time': '2020-05-08T17:20:00.000000000Z', 'mid': {'o': '106.588', 'h': '106.594', 'l': '106.568', 'c': '106.570'}}, {'complete': True, 'volume': 159, 'time': '2020-05-08T17:25:00.000000000Z', 'mid': {'o': '106.571', 'h': '106.579', 'l': '106.555', 'c': '106.555'}}, {'complete': True, 'volume': 77, 'time': '2020-05-08T17:30:00.000000000Z', 'mid': {'o': '106.556', 'h': '106.568', 'l': '106.556', 'c': '106.568'}}, {'complete': True, 'volume': 182, 'time': '2020-05-08T17:35:00.000000000Z', 'mid': {'o': '106.567', 'h': '106.624', 'l': '106.565', 'c': '106.620'}}, {'complete': True, 'volume': 131, 'time': '2020-05-08T17:40:00.000000000Z', 'mid': {'o': '106.619', 'h': '106.625', 'l': '106.600', 'c': '106.606'}}, {'complete': True, 'volume': 100, 'time': '2020-05-08T17:45:00.000000000Z', 'mid': {'o': '106.608', 'h': '106.622', 'l': '106.602', 'c': '106.609'}}, {'complete': True, 'volume': 60, 'time': '2020-05-08T17:50:00.000000000Z', 'mid': {'o': '106.608', 'h': '106.619', 'l': '106.608', 'c': '106.610'}}, {'complete': True, 'volume': 58, 'time': '2020-05-08T17:55:00.000000000Z', 'mid': {'o': '106.610', 'h': '106.620', 'l': '106.608', 'c': '106.609'}}, {'complete': True, 'volume': 164, 'time': '2020-05-08T18:00:00.000000000Z', 'mid': {'o': '106.608', 'h': '106.608', 'l': '106.575', 'c': '106.582'}}, {'complete': True, 'volume': 185, 'time': '2020-05-08T18:05:00.000000000Z', 'mid': {'o': '106.583', 'h': '106.622', 'l': '106.577', 'c': '106.620'}}, {'complete': True, 'volume': 215, 'time': '2020-05-08T18:10:00.000000000Z', 'mid': {'o': '106.619', 'h': '106.651', 'l': '106.617', 'c': '106.632'}}, {'complete': True, 'volume': 136, 'time': '2020-05-08T18:15:00.000000000Z', 'mid': {'o': '106.633', 'h': '106.642', 'l': '106.614', 'c': '106.638'}}, {'complete': True, 'volume': 88, 'time': '2020-05-08T18:20:00.000000000Z', 'mid': {'o': '106.640', 'h': '106.644', 'l': '106.632', 'c': '106.632'}}, {'complete': True, 'volume': 124, 'time': '2020-05-08T18:25:00.000000000Z', 'mid': {'o': '106.634', 'h': '106.650', 'l': '106.613', 'c': '106.620'}}, {'complete': True, 'volume': 117, 'time': '2020-05-08T18:30:00.000000000Z', 'mid': {'o': '106.618', 'h': '106.625', 'l': '106.608', 'c': '106.613'}}, {'complete': True, 'volume': 118, 'time': '2020-05-08T18:35:00.000000000Z', 'mid': {'o': '106.612', 'h': '106.631', 'l': '106.608', 'c': '106.628'}}, {'complete': True, 'volume': 104, 'time': '2020-05-08T18:40:00.000000000Z', 'mid': {'o': '106.629', 'h': '106.646', 'l': '106.628', 'c': '106.646'}}, {'complete': True, 'volume': 80, 'time': '2020-05-08T18:45:00.000000000Z', 'mid': {'o': '106.644', 'h': '106.650', 'l': '106.640', 'c': '106.650'}}, {'complete': True, 'volume': 129, 'time': '2020-05-08T18:50:00.000000000Z', 'mid': {'o': '106.651', 'h': '106.666', 'l': '106.646', 'c': '106.659'}}, {'complete': True, 'volume': 249, 'time': '2020-05-08T18:55:00.000000000Z', 'mid': {'o': '106.658', 'h': '106.668', 'l': '106.638', 'c': '106.667'}}, {'complete': True, 'volume': 138, 'time': '2020-05-08T19:00:00.000000000Z', 'mid': {'o': '106.666', 'h': '106.667', 'l': '106.644', 'c': '106.665'}}, {'complete': True, 'volume': 197, 'time': '2020-05-08T19:05:00.000000000Z', 'mid': {'o': '106.666', 'h': '106.708', 'l': '106.666', 'c': '106.701'}}, {'complete': True, 'volume': 166, 'time': '2020-05-08T19:10:00.000000000Z', 'mid': {'o': '106.700', 'h': '106.712', 'l': '106.680', 'c': '106.688'}}, {'complete': True, 'volume': 181, 'time': '2020-05-08T19:15:00.000000000Z', 'mid': {'o': '106.686', 'h': '106.706', 'l': '106.676', 'c': '106.695'}}, {'complete': True, 'volume': 121, 'time': '2020-05-08T19:20:00.000000000Z', 'mid': {'o': '106.696', 'h': '106.708', 'l': '106.689', 'c': '106.696'}}, {'complete': True, 'volume': 81, 'time': '2020-05-08T19:25:00.000000000Z', 'mid': {'o': '106.698', 'h': '106.702', 'l': '106.686', 'c': '106.701'}}, {'complete': True, 'volume': 149, 'time': '2020-05-08T19:30:00.000000000Z', 'mid': {'o': '106.700', 'h': '106.707', 'l': '106.694', 'c': '106.706'}}, {'complete': True, 'volume': 168, 'time': '2020-05-08T19:35:00.000000000Z', 'mid': {'o': '106.704', 'h': '106.716', 'l': '106.696', 'c': '106.704'}}, {'complete': True, 'volume': 116, 'time': '2020-05-08T19:40:00.000000000Z', 'mid': {'o': '106.702', 'h': '106.718', 'l': '106.701', 'c': '106.710'}}, {'complete': True, 'volume': 107, 'time': '2020-05-08T19:45:00.000000000Z', 'mid': {'o': '106.708', 'h': '106.710', 'l': '106.688', 'c': '106.702'}}, {'complete': True, 'volume': 84, 'time': '2020-05-08T19:50:00.000000000Z', 'mid': {'o': '106.703', 'h': '106.712', 'l': '106.694', 'c': '106.708'}}, {'complete': True, 'volume': 256, 'time': '2020-05-08T19:55:00.000000000Z', 'mid': {'o': '106.709', 'h': '106.716', 'l': '106.700', 'c': '106.711'}}, {'complete': True, 'volume': 103, 'time': '2020-05-08T20:00:00.000000000Z', 'mid': {'o': '106.710', 'h': '106.742', 'l': '106.710', 'c': '106.726'}}, {'complete': True, 'volume': 81, 'time': '2020-05-08T20:05:00.000000000Z', 'mid': {'o': '106.724', 'h': '106.726', 'l': '106.701', 'c': '106.704'}}, {'complete': True, 'volume': 46, 'time': '2020-05-08T20:10:00.000000000Z', 'mid': {'o': '106.706', 'h': '106.718', 'l': '106.703', 'c': '106.718'}}, {'complete': True, 'volume': 35, 'time': '2020-05-08T20:15:00.000000000Z', 'mid': {'o': '106.720', 'h': '106.722', 'l': '106.702', 'c': '106.707'}}, {'complete': True, 'volume': 44, 'time': '2020-05-08T20:20:00.000000000Z', 'mid': {'o': '106.706', 'h': '106.728', 'l': '106.706', 'c': '106.716'}}, {'complete': True, 'volume': 19, 'time': '2020-05-08T20:25:00.000000000Z', 'mid': {'o': '106.718', 'h': '106.721', 'l': '106.718', 'c': '106.719'}}, {'complete': True, 'volume': 61, 'time': '2020-05-08T20:30:00.000000000Z', 'mid': {'o': '106.721', 'h': '106.745', 'l': '106.721', 'c': '106.740'}}, {'complete': True, 'volume': 59, 'time': '2020-05-08T20:35:00.000000000Z', 'mid': {'o': '106.742', 'h': '106.742', 'l': '106.726', 'c': '106.740'}}, {'complete': True, 'volume': 75, 'time': '2020-05-08T20:40:00.000000000Z', 'mid': {'o': '106.742', 'h': '106.751', 'l': '106.732', 'c': '106.734'}}, {'complete': True, 'volume': 73, 'time': '2020-05-08T20:45:00.000000000Z', 'mid': {'o': '106.736', 'h': '106.738', 'l': '106.718', 'c': '106.736'}}, {'complete': True, 'volume': 86, 'time': '2020-05-08T20:50:00.000000000Z', 'mid': {'o': '106.733', 'h': '106.734', 'l': '106.684', 'c': '106.688'}}, {'complete': True, 'volume': 143, 'time': '2020-05-08T20:55:00.000000000Z', 'mid': {'o': '106.685', 'h': '106.698', 'l': '106.622', 'c': '106.640'}}]}\n"
     ]
    }
   ],
   "source": [
    "\"\"\" instruments endpoints is involved in retrieving historical data \"\"\"\n",
    "params  = {'count': 150, 'granularity': 'M5'}  #<- refer to instrument definitions\n",
    "candles = instruments.InstrumentsCandles(instrument='USD_JPY', params = params)\n",
    "client.request(candles)\n",
    "print(candles.response)\n",
    "ohlc_dict = candles.response['candles']\n",
    "ohlc = pd.DataFrame(ohlc_dict)  # convert json data into dataframe\n",
    "ohlc_df = ohlc.mid.dropna().apply(pd.Series)  # splits o,h,l,c into a new df\n",
    "ohlc_df['volume'] = ohlc['volume'] \n",
    "ohlc_df.index = ohlc['time']\n",
    "ohlc_df = ohlc_df.apply(pd.to_numeric) #original in string, needs to convert to numeric\n"
   ]
  },
  {
   "cell_type": "markdown",
   "metadata": {},
   "source": [
    "### Streaming Live Data "
   ]
  },
  {
   "cell_type": "code",
   "execution_count": 9,
   "metadata": {},
   "outputs": [
    {
     "name": "stdout",
     "output_type": "stream",
     "text": [
      "Time= 2020-05-09T16:22:40.514530939Z\n",
      "bid= 106.588\n",
      "ask= 106.692\n",
      "************************************\n",
      "Time= 2020-05-09T16:22:41.514500080Z\n",
      "bid= 106.588\n",
      "ask= 106.692\n",
      "************************************\n",
      "Time= 2020-05-09T16:22:41.514500080Z\n",
      "bid= 106.588\n",
      "ask= 106.692\n",
      "************************************\n"
     ]
    }
   ],
   "source": [
    "\"\"\" ----------------------- Streaming data -------------------------  \"\"\"\n",
    "\n",
    "\n",
    "params = {'instruments': 'USD_JPY'}\n",
    "account_id = '101-003-14701906-001' #log in to oanda terminal to see your own account id\n",
    "r = pricing.PricingInfo(accountID = account_id, params = params)\n",
    "i = 0\n",
    "n = 2 # number of response you want , adjust this to your own preference\n",
    "while i <= n: \n",
    "    rv = client.request(r)\n",
    "    print('Time=', rv['time'])\n",
    "    print('bid=', rv['prices'][0]['closeoutBid'])\n",
    "    print('ask=', rv['prices'][0]['closeoutAsk'])\n",
    "    print('************************************')\n",
    "    i+=1\n",
    "\n",
    "# feel free to check out the response by only printing rv"
   ]
  },
  {
   "cell_type": "markdown",
   "metadata": {},
   "source": [
    "### Check out Account Details"
   ]
  },
  {
   "cell_type": "code",
   "execution_count": 10,
   "metadata": {},
   "outputs": [
    {
     "name": "stdout",
     "output_type": "stream",
     "text": [
      "{'account': {'guaranteedStopLossOrderMode': 'ALLOWED', 'hedgingEnabled': False, 'id': '101-003-14701906-001', 'createdTime': '2020-05-09T12:54:41.604833253Z', 'currency': 'SGD', 'createdByUserID': 14701906, 'alias': 'Primary', 'marginRate': '0.02', 'lastTransactionID': '3', 'balance': '100000.0000', 'openTradeCount': 0, 'openPositionCount': 0, 'pendingOrderCount': 0, 'pl': '0.0000', 'resettablePL': '0.0000', 'resettablePLTime': '0', 'financing': '0.0000', 'commission': '0.0000', 'dividendAdjustment': '0', 'guaranteedExecutionFees': '0.0000', 'orders': [], 'positions': [], 'trades': [], 'unrealizedPL': '0.0000', 'NAV': '100000.0000', 'marginUsed': '0.0000', 'marginAvailable': '100000.0000', 'positionValue': '0.0000', 'marginCloseoutUnrealizedPL': '0.0000', 'marginCloseoutNAV': '100000.0000', 'marginCloseoutMarginUsed': '0.0000', 'marginCloseoutPositionValue': '0.0000', 'marginCloseoutPercent': '0.00000', 'withdrawalLimit': '100000.0000', 'marginCallMarginUsed': '0.0000', 'marginCallPercent': '0.00000'}, 'lastTransactionID': '3'}\n"
     ]
    }
   ],
   "source": [
    "\"\"\" -------------------------Trading Account Details------------------------------\"\"\" \n",
    "r = accounts.AccountDetails(accountID = account_id)\n",
    "client.request(r)\n",
    "print(r.response) \n",
    "#check out balance, hedging, currency"
   ]
  },
  {
   "cell_type": "markdown",
   "metadata": {},
   "source": [
    "### Check out account summary (Quite similar to Account Details)"
   ]
  },
  {
   "cell_type": "code",
   "execution_count": 11,
   "metadata": {},
   "outputs": [
    {
     "name": "stdout",
     "output_type": "stream",
     "text": [
      "{'account': {'guaranteedStopLossOrderMode': 'ALLOWED', 'hedgingEnabled': False, 'id': '101-003-14701906-001', 'createdTime': '2020-05-09T12:54:41.604833253Z', 'currency': 'SGD', 'createdByUserID': 14701906, 'alias': 'Primary', 'marginRate': '0.02', 'lastTransactionID': '3', 'balance': '100000.0000', 'openTradeCount': 0, 'openPositionCount': 0, 'pendingOrderCount': 0, 'pl': '0.0000', 'resettablePL': '0.0000', 'resettablePLTime': '0', 'financing': '0.0000', 'commission': '0.0000', 'dividendAdjustment': '0', 'guaranteedExecutionFees': '0.0000', 'unrealizedPL': '0.0000', 'NAV': '100000.0000', 'marginUsed': '0.0000', 'marginAvailable': '100000.0000', 'positionValue': '0.0000', 'marginCloseoutUnrealizedPL': '0.0000', 'marginCloseoutNAV': '100000.0000', 'marginCloseoutMarginUsed': '0.0000', 'marginCloseoutPositionValue': '0.0000', 'marginCloseoutPercent': '0.00000', 'withdrawalLimit': '100000.0000', 'marginCallMarginUsed': '0.0000', 'marginCallPercent': '0.00000'}, 'lastTransactionID': '3'}\n"
     ]
    }
   ],
   "source": [
    "r = accounts.AccountSummary(accountID = account_id)\n",
    "client.request(r)\n",
    "print(r.response)"
   ]
  },
  {
   "cell_type": "markdown",
   "metadata": {},
   "source": [
    "### Creating Orders   (refer to pg 45 of API booklet)"
   ]
  },
  {
   "cell_type": "code",
   "execution_count": 18,
   "metadata": {},
   "outputs": [],
   "source": [
    "data = {\n",
    "    'order': {\n",
    "        'price':'1.15',\n",
    "        'stopLossOnFill':{    # \n",
    "            'timeInForce': 'GTC', # Good Till Cancelled\n",
    "            'price': '1.2'\n",
    "        },\n",
    "        'timeInForce': 'FOK', # google timeInForce, FOK = Fill or Kill\n",
    "        'instrument': 'USD_JPY',\n",
    "        'units': '100', # if -100 = sell order\n",
    "        'type': 'MARKET',\n",
    "        'positionFill':'DEFAULT'\n",
    "    }\n",
    "}"
   ]
  },
  {
   "cell_type": "code",
   "execution_count": 19,
   "metadata": {},
   "outputs": [
    {
     "data": {
      "text/plain": [
       "{'orderCreateTransaction': {'type': 'MARKET_ORDER',\n",
       "  'instrument': 'USD_JPY',\n",
       "  'units': '100',\n",
       "  'timeInForce': 'FOK',\n",
       "  'positionFill': 'DEFAULT',\n",
       "  'stopLossOnFill': {'price': '1.200', 'timeInForce': 'GTC'},\n",
       "  'reason': 'CLIENT_ORDER',\n",
       "  'id': '9',\n",
       "  'accountID': '101-003-14701906-001',\n",
       "  'userID': 14701906,\n",
       "  'batchID': '9',\n",
       "  'requestID': '60708125655353688',\n",
       "  'time': '2020-05-09T16:52:50.229411429Z'},\n",
       " 'orderCancelTransaction': {'type': 'ORDER_CANCEL',\n",
       "  'orderID': '9',\n",
       "  'reason': 'MARKET_HALTED',\n",
       "  'id': '10',\n",
       "  'accountID': '101-003-14701906-001',\n",
       "  'userID': 14701906,\n",
       "  'batchID': '9',\n",
       "  'requestID': '60708125655353688',\n",
       "  'time': '2020-05-09T16:52:50.229411429Z'},\n",
       " 'relatedTransactionIDs': ['9', '10'],\n",
       " 'lastTransactionID': '10'}"
      ]
     },
     "execution_count": 19,
     "metadata": {},
     "output_type": "execute_result"
    }
   ],
   "source": [
    "r = orders.OrderCreate(accountID=account_id, data = data)\n",
    "client.request(r)"
   ]
  },
  {
   "cell_type": "markdown",
   "metadata": {},
   "source": [
    "### Customising the Orders to our flexibility"
   ]
  },
  {
   "cell_type": "code",
   "execution_count": 27,
   "metadata": {},
   "outputs": [],
   "source": [
    "def ATR(DF,n):\n",
    "    \"\"\"Function to calculate True Range and Average True Range\"\"\"\n",
    "    # remember n is number of period points\n",
    "    df= DF.copy()\n",
    "    df['H-L'] = abs(df['h'] - df['l'])\n",
    "    df['H-PC'] = abs(df['h'] - df['c'].shift(1))\n",
    "    df['L-PC'] = abs(df['l'] - df['c'].shift(1))\n",
    "    df['TR'] = df[['H-L', 'H-PC', 'L-PC']].max(axis=1, skipna= False)\n",
    "    df['ATR'] = df['TR'].rolling(n).mean()\n",
    "    #df['ATR'] = df['TR'].ewm(span = n, adjust = False, min_period = n).mean()\n",
    "    df2 = df.drop(['H-L', 'H-PC','L-PC'], axis = 1)\n",
    "    return round(df2['ATR'][-1], 2)"
   ]
  },
  {
   "cell_type": "code",
   "execution_count": 30,
   "metadata": {},
   "outputs": [],
   "source": [
    "def  market_order(account_id, instrument, units, sl):\n",
    "    \"\"\" units can be +ve or -ve, stop loss(in pips) added/subtracted to price\"\"\"\n",
    "    params = {'instruments' : instrument}\n",
    "    r = pricing.PricingInfo(accountID = account_id, params = params)\n",
    "    rv = client.request(r)\n",
    "     \n",
    "    #sl here refers to stop loss in pip and is determined by ATR as defined above\n",
    "    if units > 0:\n",
    "        price = float(rv['prices'][0]['closeoutAsk'])\n",
    "        st_ls = price - sl\n",
    "    else: \n",
    "        price = float(rv['prices'][0]['closeoutBid'])\n",
    "        st_ls = price + sl \n",
    "        \n",
    "        \n",
    "    data = {\n",
    "        'order':{\n",
    "            'price': \"\",\n",
    "            'stopLossOnFill':{\n",
    "                'timeInForce':'GTC',\n",
    "                'price': str(st_ls)\n",
    "            },\n",
    "            'timeInForce':'FOK',\n",
    "            'instrument': str(instrument),\n",
    "            'units': str(units),\n",
    "            'type': 'MARKET',\n",
    "            'positionFill' : 'DEFAULT'\n",
    "        }\n",
    "    }\n",
    "    \n",
    "    return data"
   ]
  },
  {
   "cell_type": "code",
   "execution_count": 32,
   "metadata": {},
   "outputs": [
    {
     "data": {
      "text/plain": [
       "{'orderCreateTransaction': {'type': 'MARKET_ORDER',\n",
       "  'instrument': 'USD_JPY',\n",
       "  'units': '-100',\n",
       "  'timeInForce': 'FOK',\n",
       "  'positionFill': 'DEFAULT',\n",
       "  'stopLossOnFill': {'price': '106.708', 'timeInForce': 'GTC'},\n",
       "  'reason': 'CLIENT_ORDER',\n",
       "  'id': '12',\n",
       "  'accountID': '101-003-14701906-001',\n",
       "  'userID': 14701906,\n",
       "  'batchID': '12',\n",
       "  'requestID': '24679337667747447',\n",
       "  'time': '2020-05-09T17:28:43.750520251Z'},\n",
       " 'orderCancelTransaction': {'type': 'ORDER_CANCEL',\n",
       "  'orderID': '12',\n",
       "  'reason': 'MARKET_HALTED',\n",
       "  'id': '13',\n",
       "  'accountID': '101-003-14701906-001',\n",
       "  'userID': 14701906,\n",
       "  'batchID': '12',\n",
       "  'requestID': '24679337667747447',\n",
       "  'time': '2020-05-09T17:28:43.750520251Z'},\n",
       " 'relatedTransactionIDs': ['12', '13'],\n",
       " 'lastTransactionID': '13'}"
      ]
     },
     "execution_count": 32,
     "metadata": {},
     "output_type": "execute_result"
    }
   ],
   "source": [
    "r = orders.OrderCreate(accountID = account_id, data = market_order(account_id, 'USD_JPY', -100, 3*ATR(ohlc_df,120)))\n",
    "client.request(r)"
   ]
  },
  {
   "cell_type": "code",
   "execution_count": 33,
   "metadata": {},
   "outputs": [
    {
     "data": {
      "text/plain": [
       "{'trades': [], 'lastTransactionID': '13'}"
      ]
     },
     "execution_count": 33,
     "metadata": {},
     "output_type": "execute_result"
    }
   ],
   "source": [
    "### Check Trades\n",
    "r = trades.OpenTrades(accountID = account_id)\n",
    "client.request(r)"
   ]
  }
 ],
 "metadata": {
  "kernelspec": {
   "display_name": "Python 3",
   "language": "python",
   "name": "python3"
  },
  "language_info": {
   "codemirror_mode": {
    "name": "ipython",
    "version": 3
   },
   "file_extension": ".py",
   "mimetype": "text/x-python",
   "name": "python",
   "nbconvert_exporter": "python",
   "pygments_lexer": "ipython3",
   "version": "3.7.4"
  }
 },
 "nbformat": 4,
 "nbformat_minor": 2
}
