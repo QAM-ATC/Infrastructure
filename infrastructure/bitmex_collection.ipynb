{
 "cells": [
  {
   "cell_type": "code",
   "execution_count": 1,
   "metadata": {},
   "outputs": [],
   "source": [
    "import numpy as np\n",
    "import pandas as pd\n",
    "\n",
    "import json\n",
    "import time\n",
    "import os\n",
    "import websocket\n",
    "import urllib\n",
    "import hmac\n",
    "import hashlib\n",
    "\n",
    "import logging"
   ]
  },
  {
   "cell_type": "code",
   "execution_count": 2,
   "metadata": {},
   "outputs": [],
   "source": [
    "api_key, api_secret = open('bitmex_api.txt').read().split()\n",
    "endpoint = \"wss://www.bitmex.com/realtime\"\n",
    "symbol = \"XBTUSD\""
   ]
  },
  {
   "cell_type": "code",
   "execution_count": 3,
   "metadata": {},
   "outputs": [],
   "source": [
    "def generate_signature(secret, verb, url, nonce, data):\n",
    "    \"\"\"Generate a request signature compatible with BitMEX.\"\"\"\n",
    "    # Parse the url so we can remove the base and extract just the path.\n",
    "    parsedURL = urllib.parse.urlparse(url)\n",
    "    path = parsedURL.path\n",
    "    if parsedURL.query:\n",
    "        path = path + '?' + parsedURL.query\n",
    "\n",
    "    # print \"Computing HMAC: %s\" % verb + path + str(nonce) + data\n",
    "    message = (verb + path + str(nonce) + data).encode('utf-8')\n",
    "\n",
    "    signature = hmac.new(secret.encode('utf-8'), message, digestmod=hashlib.sha256).hexdigest()\n",
    "    return signature\n",
    "\n",
    "def get_auth():\n",
    "    expires = int(round(time.time() + 3600))\n",
    "    return [\n",
    "        \"api-expires: \" + str(expires),\n",
    "        \"api-signature: \" + generate_signature(api_secret, 'GET', '/realtime', expires, ''),\n",
    "        \"api-key:\" + api_key\n",
    "    ]\n",
    "\n",
    "def get_wsURL(endpoint, symbol):\n",
    "    symbolSubs = [\"quote\", \"trade\"]\n",
    "    subscriptions = [sub + ':' + symbol for sub in symbolSubs]\n",
    "    urlParts = list(urllib.parse.urlparse(endpoint))\n",
    "    urlParts[0] = urlParts[0].replace('http', 'ws')\n",
    "    urlParts[2] = f\"/realtime?subscribe={','.join(subscriptions)}\"\n",
    "\n",
    "    return urllib.parse.urlunparse(urlParts)"
   ]
  },
  {
   "cell_type": "code",
   "execution_count": 4,
   "metadata": {},
   "outputs": [],
   "source": [
    "def on_message(ws, message):\n",
    "    now = pd.Timestamp.utcnow()\n",
    "    message = json.loads(message)\n",
    "    table = message.get(\"table\")\n",
    "\n",
    "    if not table:\n",
    "        return None\n",
    "    \n",
    "    action = message.get(\"action\")\n",
    "    header = action == \"partial\"\n",
    "    if not header and action != \"insert\":\n",
    "        logging.debug(now, message)\n",
    "    \n",
    "    if table == \"trade\":\n",
    "        data = pd.DataFrame.from_records(\n",
    "            data=message.get(\"data\"),\n",
    "            index=\"timestamp\",\n",
    "            exclude=[\"symbol\",\"tickDirection\",\"trdMatchID\",\"grossValue\",\"homeNotional\",\"foreignNotional\"]\n",
    "        )\n",
    "        data[\"received\"] = now\n",
    "        data.to_csv(trade_file_name, mode='a', header=header)\n",
    "        \n",
    "    elif table == \"quote\":\n",
    "        data = pd.DataFrame.from_records(\n",
    "            data=message.get(\"data\"),\n",
    "            index=\"timestamp\",\n",
    "            exclude=[\"symbol\"]\n",
    "        )\n",
    "        data[\"received\"] = now\n",
    "        data.to_csv(quote_file_name, mode='a', header=header)\n",
    "        \n",
    "    else:\n",
    "        logging.debug(now, table)\n",
    "        \n",
    "    return None"
   ]
  },
  {
   "cell_type": "code",
   "execution_count": 5,
   "metadata": {},
   "outputs": [],
   "source": [
    "def collect_data(endpoint, symbol):\n",
    "    ws = websocket.WebSocketApp(\n",
    "        url=get_wsURL(endpoint, symbol),\n",
    "        header=get_auth(),\n",
    "        on_message=on_message\n",
    "    )\n",
    "    try:\n",
    "        ws.run_forever()\n",
    "    except:\n",
    "        pass\n",
    "    \n",
    "    return None"
   ]
  },
  {
   "cell_type": "code",
   "execution_count": 6,
   "metadata": {},
   "outputs": [
    {
     "name": "stdout",
     "output_type": "stream",
     "text": [
      "191217_1411\n"
     ]
    }
   ],
   "source": [
    "os.makedirs(\"logs\", exist_ok=True)\n",
    "os.makedirs(\"data\", exist_ok=True)\n",
    "start_time_str = pd.Timestamp.utcnow().strftime(\"%y%m%d_%H%M\")\n",
    "logger_file_name = f\"logs/{symbol}_{start_time_str}.log\"\n",
    "trade_file_name = f\"data/{symbol}_trades_{start_time_str}.csv\"\n",
    "quote_file_name = f\"data/{symbol}_quotes_{start_time_str}.csv\"\n",
    "logging.basicConfig(filename=logger_file_name,level=logging.DEBUG)\n",
    "collect_data(endpoint, symbol)"
   ]
  }
 ],
 "metadata": {
  "kernelspec": {
   "display_name": "Python 3",
   "language": "python",
   "name": "python3"
  },
  "language_info": {
   "codemirror_mode": {
    "name": "ipython",
    "version": 3
   },
   "file_extension": ".py",
   "mimetype": "text/x-python",
   "name": "python",
   "nbconvert_exporter": "python",
   "pygments_lexer": "ipython3",
   "version": "3.7.4"
  }
 },
 "nbformat": 4,
 "nbformat_minor": 2
}
