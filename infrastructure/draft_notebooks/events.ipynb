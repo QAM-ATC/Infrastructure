{
 "cells": [
  {
   "cell_type": "code",
   "execution_count": 1,
   "metadata": {},
   "outputs": [],
   "source": [
    "import pandas as pd\n",
    "from abc import ABC, ABCMeta\n",
    "from dataclasses import dataclass\n",
    "import dataclasses\n",
    "\n",
    "%load_ext line_profiler"
   ]
  },
  {
   "cell_type": "markdown",
   "metadata": {},
   "source": [
    "use dictionaries for market data\n",
    "call functions to handle them, one function per data\n",
    "functions will 1. generate signals 2. add to database/tables 3. retrain models (if necessary)"
   ]
  },
  {
   "cell_type": "code",
   "execution_count": 2,
   "metadata": {},
   "outputs": [
    {
     "data": {
      "text/plain": [
       "Timestamp('2020-01-06 00:05:46.666807+0000', tz='UTC')"
      ]
     },
     "execution_count": 2,
     "metadata": {},
     "output_type": "execute_result"
    }
   ],
   "source": [
    "@dataclass\n",
    "class FillEventBase:\n",
    "    __slots__ = \"Symbol\", \"Quantity\", \"FillPrice\", \"EventTime\"\n",
    "    Symbol : str\n",
    "    Quantity : float # negative for short\n",
    "    FillPrice : float\n",
    "    EventTime : pd.Timestamp\n",
    "\n",
    "    def __init_subclass__(self):\n",
    "        methods = \"Calculate_Commissions\", \"Update_Portfolio\"\n",
    "        for m in methods:\n",
    "            assert hasattr(self, m), f\"must implement {m}\"\n",
    "\n",
    "class FillEventDerived(FillEventBase):\n",
    "    def Calculate_Commissions(self):\n",
    "        return NotImplemented\n",
    "    def Update_Portfolio(self):\n",
    "        return NotImplemented\n",
    "    \n",
    "eb = FillEventBase(\"AAPL\", 1, 100, pd.Timestamp.utcnow())\n",
    "eb.EventTime"
   ]
  },
  {
   "cell_type": "code",
   "execution_count": 3,
   "metadata": {},
   "outputs": [
    {
     "name": "stdout",
     "output_type": "stream",
     "text": [
      "3.23 µs ± 31.7 ns per loop (mean ± std. dev. of 7 runs, 100000 loops each)\n"
     ]
    }
   ],
   "source": [
    "%%timeit\n",
    "FillDic = {\n",
    "    \"Symbol\" : \"AAPL\",\n",
    "    \"Quantity\" : 1, \n",
    "    \"FillPrice\" : 100,\n",
    "    \"EventTime\" : pd.Timestamp.utcnow(),\n",
    "}"
   ]
  },
  {
   "cell_type": "code",
   "execution_count": 4,
   "metadata": {},
   "outputs": [
    {
     "name": "stdout",
     "output_type": "stream",
     "text": [
      "3.66 µs ± 86.1 ns per loop (mean ± std. dev. of 7 runs, 100000 loops each)\n"
     ]
    }
   ],
   "source": [
    "%%timeit\n",
    "FillDataclass = FillEventDerived(\"AAPL\", 1, 100, pd.Timestamp.utcnow())"
   ]
  }
 ],
 "metadata": {
  "kernelspec": {
   "display_name": "Python 3",
   "language": "python",
   "name": "python3"
  },
  "language_info": {
   "codemirror_mode": {
    "name": "ipython",
    "version": 3
   },
   "file_extension": ".py",
   "mimetype": "text/x-python",
   "name": "python",
   "nbconvert_exporter": "python",
   "pygments_lexer": "ipython3",
   "version": "3.7.4"
  }
 },
 "nbformat": 4,
 "nbformat_minor": 2
}
