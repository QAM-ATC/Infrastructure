{
 "cells": [
  {
   "cell_type": "code",
   "execution_count": 1,
   "metadata": {},
   "outputs": [],
   "source": [
    "import pandas as pd\n",
    "import numpy as np\n",
    "\n",
    "import os\n",
    "\n",
    "from queue import PriorityQueue"
   ]
  },
  {
   "cell_type": "code",
   "execution_count": 2,
   "metadata": {},
   "outputs": [],
   "source": [
    "class Quote:\n",
    "    def __init__(self, timestamp, bid_size, bid_price, ask_price, ask_size, recorded):\n",
    "        self.type = \"Quote\"\n",
    "        self.timestamp = timestamp\n",
    "        self.bid_size = bid_size\n",
    "        self.bid_price = bid_price\n",
    "        self.ask_price = ask_price\n",
    "        self.ask_size = ask_size\n",
    "        self.recorded = recorded"
   ]
  },
  {
   "cell_type": "code",
   "execution_count": 3,
   "metadata": {},
   "outputs": [],
   "source": [
    "class Trade:\n",
    "    def __init__(self, timestamp, side, size, price, recorded):\n",
    "        self.type = \"Trade\"\n",
    "        self.timestamp = timestamp\n",
    "        self.side = side\n",
    "        self.size = size\n",
    "        self.price = price\n",
    "        self.recorded = recorded"
   ]
  },
  {
   "cell_type": "code",
   "execution_count": 4,
   "metadata": {},
   "outputs": [],
   "source": [
    "def load_quotes_into_priority_queue(filename, priority_queue):\n",
    "     for _, row in pd.read_csv(filename).iterrows():\n",
    "        quote = Quote(pd.Timestamp(row['timestamp']).value,\n",
    "                      row['bidSize'],\n",
    "                      row['bidPrice'],\n",
    "                      row['askPrice'],\n",
    "                      row['askSize'],\n",
    "                      pd.Timestamp(row['recorded']).value)\n",
    "        priority_queue.put(quote.timestamp, quote)"
   ]
  },
  {
   "cell_type": "code",
   "execution_count": 5,
   "metadata": {},
   "outputs": [],
   "source": [
    "def load_trades_into_priority_queue(filename, priority_queue):\n",
    "    for _, row in pd.read_csv(filename).iterrows():\n",
    "        quote = Trade(pd.Timestamp(row['timestamp']).value,\n",
    "                      row['side'],\n",
    "                      row['size'],\n",
    "                      row['price'],\n",
    "                      pd.Timestamp(row['received']).value)\n",
    "        priority_queue.put(quote.timestamp, quote)"
   ]
  },
  {
   "cell_type": "code",
   "execution_count": 6,
   "metadata": {},
   "outputs": [],
   "source": [
    "quotes_filename = os.path.join(\"play_data\", \"XBTUSD_quotes_191214_0434.csv\")\n",
    "trades_filename = os.path.join(\"play_data\", \"XBTUSD_trades_191214_0434.csv\")"
   ]
  },
  {
   "cell_type": "code",
   "execution_count": 7,
   "metadata": {},
   "outputs": [],
   "source": [
    "full_queue = PriorityQueue()\n",
    "load_quotes_into_priority_queue(quotes_filename, full_queue)\n",
    "load_trades_into_priority_queue(trades_filename, full_queue)"
   ]
  },
  {
   "cell_type": "code",
   "execution_count": 8,
   "metadata": {},
   "outputs": [],
   "source": [
    "# full_queue.get() to get next item"
   ]
  }
 ],
 "metadata": {
  "kernelspec": {
   "display_name": "Python 3",
   "language": "python",
   "name": "python3"
  },
  "language_info": {
   "codemirror_mode": {
    "name": "ipython",
    "version": 3
   },
   "file_extension": ".py",
   "mimetype": "text/x-python",
   "name": "python",
   "nbconvert_exporter": "python",
   "pygments_lexer": "ipython3",
   "version": "3.7.4"
  }
 },
 "nbformat": 4,
 "nbformat_minor": 2
}
