{
 "cells": [
  {
   "cell_type": "markdown",
   "metadata": {},
   "source": [
    "### TITLE : Performance Measurement of Strategies - KPI\n",
    "\n",
    "<p> Author : BRYAN LIM YUQIANG </p> \n",
    "<p> Contact me : </p>\n",
    "<li>Bryanlimyuqiang@gmail.com</li>\n",
    "<li><a href = \"https://www.linkedin.com/in/bryanlimyuqiang/\">Linkedin </a></li> \n",
    "<li><a href = \"https://www.etoro.com/people/bryanlimyuqiang\"> Follow my trading journey </a></li>\n"
   ]
  },
  {
   "cell_type": "markdown",
   "metadata": {},
   "source": [
    "### Covers:\n",
    "1. Compounded Annual Growth Rate (CAGR)\n",
    "2. Volatility\n",
    "3. Sharpe and Sortino \n",
    "4. Maximum Drawdown and Calmar Ratio"
   ]
  },
  {
   "cell_type": "code",
   "execution_count": 15,
   "metadata": {},
   "outputs": [],
   "source": [
    "import pandas_datareader.data as pdr \n",
    "import numpy as np\n",
    "import datetime"
   ]
  },
  {
   "cell_type": "markdown",
   "metadata": {},
   "source": [
    "<img src = \"./images/PM_INTRO.jpg\" />"
   ]
  },
  {
   "cell_type": "markdown",
   "metadata": {},
   "source": [
    "## 1. COMPOUNDED ANNUAL GROWTH RATE  (CAGR)"
   ]
  },
  {
   "cell_type": "markdown",
   "metadata": {},
   "source": [
    "<img src =\"./images/CAGR.jpg\" />"
   ]
  },
  {
   "cell_type": "code",
   "execution_count": 16,
   "metadata": {},
   "outputs": [],
   "source": [
    "# We try to use the S&P500\n",
    "ticker = '^GSPC'\n",
    "\n",
    "# get_data_yahoo(ticker, start, end) , We use 5 years of Data\n",
    "SnP = pdr.get_data_yahoo(ticker, datetime.date.today()- datetime.timedelta(1825), datetime.date.today())"
   ]
  },
  {
   "cell_type": "code",
   "execution_count": 17,
   "metadata": {},
   "outputs": [],
   "source": [
    "def CAGR(DF):\n",
    "    df = DF.copy()\n",
    "    df['daily_ret'] = DF['Adj Close'].pct_change() \n",
    "    \n",
    "    # cum prod of daily_ret, use excel to visualise if unsure\n",
    "    df['cum_ret'] = (1 + df['daily_ret']).cumprod()  \n",
    "    \n",
    "    # get len of rows of data divide by 252 to get number of trading years!!\n",
    "    n = len(df)/252 \n",
    "    \n",
    "    # We only want the last value as it represents the end net ret of our strategy over the period, refer to formula \n",
    "    CAGR = df['cum_ret'][-1]**(1/n) - 1\n",
    "    \n",
    "    \n",
    "    return CAGR"
   ]
  },
  {
   "cell_type": "code",
   "execution_count": 18,
   "metadata": {},
   "outputs": [
    {
     "data": {
      "text/plain": [
       "0.06838149223270218"
      ]
     },
     "execution_count": 18,
     "metadata": {},
     "output_type": "execute_result"
    }
   ],
   "source": [
    "CAGR(SnP)"
   ]
  },
  {
   "cell_type": "markdown",
   "metadata": {},
   "source": [
    "## 2. Annualised Volatility"
   ]
  },
  {
   "cell_type": "markdown",
   "metadata": {},
   "source": [
    "<img src = \"./images/Annual_VOL.jpg\" />"
   ]
  },
  {
   "cell_type": "code",
   "execution_count": 19,
   "metadata": {},
   "outputs": [],
   "source": [
    "def volatility(DF):\n",
    "    df = DF.copy()\n",
    "    df['daily_ret'] = df['Adj Close'].pct_change()\n",
    "    \n",
    "    #annualised volatility based of daily volatility \n",
    "    vol = df['daily_ret'].std() * np.sqrt(252)\n",
    "    \n",
    "    return vol"
   ]
  },
  {
   "cell_type": "code",
   "execution_count": 21,
   "metadata": {},
   "outputs": [
    {
     "data": {
      "text/plain": [
       "0.18940117733974982"
      ]
     },
     "execution_count": 21,
     "metadata": {},
     "output_type": "execute_result"
    }
   ],
   "source": [
    "volatility(SnP)"
   ]
  },
  {
   "cell_type": "markdown",
   "metadata": {},
   "source": [
    "## 3. Sharpe And Sortino Ratios"
   ]
  },
  {
   "cell_type": "markdown",
   "metadata": {},
   "source": [
    "<img src = \"./images/Sortino_sharpe.jpg\" />"
   ]
  },
  {
   "cell_type": "code",
   "execution_count": 25,
   "metadata": {},
   "outputs": [],
   "source": [
    "# rf = risk-free rate, you may choose to use 10-year treasury yields etc \n",
    "rf = 0.022 \n",
    "\n",
    "def sharpe(DF, rf):\n",
    "    df = DF.copy()\n",
    "    sr = (CAGR(df) - rf)/volatility(df)\n",
    "    return sr "
   ]
  },
  {
   "cell_type": "code",
   "execution_count": 26,
   "metadata": {},
   "outputs": [
    {
     "data": {
      "text/plain": [
       "0.24488492037989062"
      ]
     },
     "execution_count": 26,
     "metadata": {},
     "output_type": "execute_result"
    }
   ],
   "source": [
    "sharpe(SnP, rf)"
   ]
  },
  {
   "cell_type": "code",
   "execution_count": 28,
   "metadata": {},
   "outputs": [],
   "source": [
    "def sortino(DF, rf):\n",
    "    df = DF.copy()\n",
    "    df['daily_ret'] = df['Adj Close'].pct_change() \n",
    "    \n",
    "    #filter only negative vol \n",
    "    neg_vol = df[df['daily_ret'] < 0]['daily_ret'].std() * np.sqrt(252)\n",
    "    sr = (CAGR(df) - rf) / neg_vol\n",
    "    \n",
    "    return sr"
   ]
  },
  {
   "cell_type": "code",
   "execution_count": 29,
   "metadata": {},
   "outputs": [
    {
     "data": {
      "text/plain": [
       "0.2746330291554383"
      ]
     },
     "execution_count": 29,
     "metadata": {},
     "output_type": "execute_result"
    }
   ],
   "source": [
    "sortino(SnP, rf)"
   ]
  },
  {
   "cell_type": "markdown",
   "metadata": {},
   "source": [
    "## 4. Maximum Drawdown & Calmar Ratio"
   ]
  },
  {
   "cell_type": "markdown",
   "metadata": {},
   "source": [
    "<img src = \"./images/drawdown_calmar.jpg\" />"
   ]
  },
  {
   "cell_type": "markdown",
   "metadata": {},
   "source": [
    "<img src=\"./images/calmar_ratio.png\" />"
   ]
  },
  {
   "cell_type": "code",
   "execution_count": 40,
   "metadata": {},
   "outputs": [],
   "source": [
    "def max_drawdown(DF):\n",
    "    df = DF.copy()\n",
    "    df['daily_ret'] = df['Adj Close'].pct_change()\n",
    "    df['cum_return'] = (1+ df['daily_ret']).cumprod()\n",
    "    \n",
    "    # Find highest peak in DF\n",
    "    df['cum_roll_max'] = df['cum_return'].cummax()\n",
    "    df['drawdown'] = df['cum_roll_max'] - df['cum_return']\n",
    "    df['drawdown_pct']  =df['drawdown'] / df['cum_roll_max']\n",
    "    max_dd = df['drawdown_pct'].max()\n",
    "    \n",
    "    return df"
   ]
  },
  {
   "cell_type": "code",
   "execution_count": 53,
   "metadata": {},
   "outputs": [
    {
     "name": "stdout",
     "output_type": "stream",
     "text": [
      "The max drawdown in the dataset was 0.339250\n"
     ]
    },
    {
     "data": {
      "image/png": "[encoded data removed]",
      "text/plain": [
       "<Figure size 432x288 with 1 Axes>"
      ]
     },
     "metadata": {
      "needs_background": "light"
     },
     "output_type": "display_data"
    }
   ],
   "source": [
    "print(\"The max drawdown in the dataset was {:2f}\".format(max_drawdown(SnP)['drawdown_pct'].max()))\n",
    "max_drawdown(SnP)['drawdown'].plot();"
   ]
  },
  {
   "cell_type": "code",
   "execution_count": 60,
   "metadata": {},
   "outputs": [],
   "source": [
    "def calmar(DF):\n",
    "    df = DF.copy()\n",
    "    clmr  = CAGR(df)/(max_drawdown(df)['drawdown_pct'].max())\n",
    "    return clmr"
   ]
  },
  {
   "cell_type": "code",
   "execution_count": 61,
   "metadata": {},
   "outputs": [
    {
     "data": {
      "text/plain": [
       "0.2015669059811831"
      ]
     },
     "execution_count": 61,
     "metadata": {},
     "output_type": "execute_result"
    }
   ],
   "source": [
    "calmar(SnP)"
   ]
  }
 ],
 "metadata": {
  "kernelspec": {
   "display_name": "Python 3",
   "language": "python",
   "name": "python3"
  },
  "language_info": {
   "codemirror_mode": {
    "name": "ipython",
    "version": 3
   },
   "file_extension": ".py",
   "mimetype": "text/x-python",
   "name": "python",
   "nbconvert_exporter": "python",
   "pygments_lexer": "ipython3",
   "version": "3.7.4"
  }
 },
 "nbformat": 4,
 "nbformat_minor": 2
}
